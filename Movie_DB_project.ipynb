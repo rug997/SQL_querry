{
 "cells": [
  {
   "cell_type": "markdown",
   "id": "ec5b7e70",
   "metadata": {},
   "source": [
    "# Movie_Database1"
   ]
  },
  {
   "cell_type": "markdown",
   "id": "1178a067",
   "metadata": {},
   "source": [
    "INTRODUCTION OF DATABASE."
   ]
  },
  {
   "cell_type": "markdown",
   "id": "c5f16c98",
   "metadata": {},
   "source": [
    "In this project, i'm going to working on\n",
    "an online, free movie and TV show database that houses some of the most popular movies and TV shows worldwide. \n",
    "The TMDb database supports 39 official languages used in over 180 countries daily and dates back all the way to 2008. \n",
    "\n",
    "The database can be accessed freeily for learning puporse here https://www.themoviedb.org/ . "
   ]
  },
  {
   "cell_type": "markdown",
   "id": "a4d2190f",
   "metadata": {},
   "source": [
    "1.EXPLORE DATABASE\n"
   ]
  },
  {
   "cell_type": "code",
   "execution_count": 12,
   "id": "732260ab",
   "metadata": {},
   "outputs": [
    {
     "name": "stdout",
     "output_type": "stream",
     "text": [
      "The sql extension is already loaded. To reload it, use:\n",
      "  %reload_ext sql\n"
     ]
    }
   ],
   "source": [
    "# Load and activate the SQL extension to allow us to execute SQL in a Jupyter notebook.\n",
    "%load_ext sql\n"
   ]
  },
  {
   "cell_type": "code",
   "execution_count": 11,
   "id": "df522f5b",
   "metadata": {},
   "outputs": [
    {
     "data": {
      "text/plain": [
       "'Connected: @TMDB-a-40061.db'"
      ]
     },
     "execution_count": 11,
     "metadata": {},
     "output_type": "execute_result"
    }
   ],
   "source": [
    "#starting a connection to a local database using sql magic command\n",
    "%sql sqlite:///TMDB-a-40061.db"
   ]
  },
  {
   "cell_type": "markdown",
   "id": "9920f92e",
   "metadata": {},
   "source": [
    "what Is is inside our database?"
   ]
  },
  {
   "cell_type": "markdown",
   "id": "8168c352",
   "metadata": {},
   "source": [
    "As can be seen from the ERD (https://www.themoviedb.org/), the TMDb database consists of 12 tables containing information about \n",
    "movies, cast, genre, and so much more.\n"
   ]
  },
  {
   "cell_type": "markdown",
   "id": "f97f2d6e",
   "metadata": {},
   "source": [
    "Let's start exploring the Database deeply"
   ]
  },
  {
   "cell_type": "markdown",
   "id": "b6c761a8",
   "metadata": {},
   "source": [
    "I am firstly interested to know who won oscar prize \"Actor in a Leading Role\" recently?\n",
    "\n",
    "\n",
    "To know that, let me check what are the recent years firstly."
   ]
  },
  {
   "cell_type": "code",
   "execution_count": 16,
   "id": "e645bf43",
   "metadata": {},
   "outputs": [
    {
     "name": "stdout",
     "output_type": "stream",
     "text": [
      "   sqlite:///TMDB-a-40061\n",
      " * sqlite:///TMDB-a-40061.db\n",
      "Done.\n"
     ]
    },
    {
     "data": {
      "text/html": [
       "<table>\n",
       "    <thead>\n",
       "        <tr>\n",
       "            <th>year</th>\n",
       "            <th>award</th>\n",
       "            <th>winner</th>\n",
       "            <th>name</th>\n",
       "            <th>film</th>\n",
       "        </tr>\n",
       "    </thead>\n",
       "    <tbody>\n",
       "        <tr>\n",
       "            <td>2015</td>\n",
       "            <td>Actor in a Leading Role</td>\n",
       "            <td>1.0</td>\n",
       "            <td>Leonardo DiCaprio</td>\n",
       "            <td>The Revenant</td>\n",
       "        </tr>\n",
       "    </tbody>\n",
       "</table>"
      ],
      "text/plain": [
       "[('2015', 'Actor in a Leading Role', '1.0', 'Leonardo DiCaprio', 'The Revenant')]"
      ]
     },
     "execution_count": 16,
     "metadata": {},
     "output_type": "execute_result"
    }
   ],
   "source": [
    "%%sql\n",
    "-- 1.0 mention winner and mention the award name\n",
    "select * \n",
    "from oscars\n",
    "where winner = '1.0' AND award = 'Actor in a Leading Role' \n",
    "order by year DESC -- to look for earliest\n",
    "limit 1;"
   ]
  },
  {
   "cell_type": "markdown",
   "id": "1336c606",
   "metadata": {},
   "source": [
    "also we want to know the oldest movie in our database"
   ]
  },
  {
   "cell_type": "code",
   "execution_count": 23,
   "id": "423419a9",
   "metadata": {},
   "outputs": [
    {
     "name": "stdout",
     "output_type": "stream",
     "text": [
      "   sqlite:///TMDB-a-40061\n",
      " * sqlite:///TMDB-a-40061.db\n",
      "Done.\n"
     ]
    },
    {
     "data": {
      "text/html": [
       "<table>\n",
       "    <thead>\n",
       "        <tr>\n",
       "            <th>movie_id</th>\n",
       "            <th>title</th>\n",
       "            <th>release_date</th>\n",
       "            <th>budget</th>\n",
       "        </tr>\n",
       "    </thead>\n",
       "    <tbody>\n",
       "        <tr>\n",
       "            <td>3059</td>\n",
       "            <td>Intolerance</td>\n",
       "            <td>1916-09-04 00:00:00.000000</td>\n",
       "            <td>385907</td>\n",
       "        </tr>\n",
       "        <tr>\n",
       "            <td>3060</td>\n",
       "            <td>The Big Parade</td>\n",
       "            <td>1925-11-05 00:00:00.000000</td>\n",
       "            <td>245000</td>\n",
       "        </tr>\n",
       "    </tbody>\n",
       "</table>"
      ],
      "text/plain": [
       "[(3059, 'Intolerance', '1916-09-04 00:00:00.000000', 385907),\n",
       " (3060, 'The Big Parade', '1925-11-05 00:00:00.000000', 245000)]"
      ]
     },
     "execution_count": 23,
     "metadata": {},
     "output_type": "execute_result"
    }
   ],
   "source": [
    "%%sql \n",
    "select movie_id, title, release_date, budget \n",
    "from movies\n",
    "where release_date IS NOT NULL\n",
    "order by release_date \n",
    "limit 2;"
   ]
  },
  {
   "cell_type": "markdown",
   "id": "a3dea9b3",
   "metadata": {},
   "source": [
    "One of our sponsor is curious to know the total number unique awards are there in the Oscars table"
   ]
  },
  {
   "cell_type": "code",
   "execution_count": 27,
   "id": "05f189cf",
   "metadata": {},
   "outputs": [
    {
     "name": "stdout",
     "output_type": "stream",
     "text": [
      "   sqlite:///TMDB-a-40061\n",
      " * sqlite:///TMDB-a-40061.db\n",
      "Done.\n"
     ]
    },
    {
     "data": {
      "text/html": [
       "<table>\n",
       "    <thead>\n",
       "        <tr>\n",
       "            <th>Number_of_awards</th>\n",
       "        </tr>\n",
       "    </thead>\n",
       "    <tbody>\n",
       "        <tr>\n",
       "            <td>114</td>\n",
       "        </tr>\n",
       "    </tbody>\n",
       "</table>"
      ],
      "text/plain": [
       "[(114,)]"
      ]
     },
     "execution_count": 27,
     "metadata": {},
     "output_type": "execute_result"
    }
   ],
   "source": [
    "%%sql \n",
    "select COUNT (distinct award) as Number_of_awards\n",
    "from oscars\n",
    "limit 5;"
   ]
  },
  {
   "cell_type": "raw",
   "id": "b0520e36",
   "metadata": {},
   "source": [
    "Once, one of the clients seen a trailer of movie that was going to be out soon, but he forgot its name, \n",
    "however he remembers that the movie's name contains word \"spider\".\n",
    "\n",
    "let's try to help him."
   ]
  },
  {
   "cell_type": "code",
   "execution_count": 33,
   "id": "7803f794",
   "metadata": {},
   "outputs": [
    {
     "name": "stdout",
     "output_type": "stream",
     "text": [
      "   sqlite:///TMDB-a-40061\n",
      " * sqlite:///TMDB-a-40061.db\n",
      "Done.\n"
     ]
    },
    {
     "data": {
      "text/html": [
       "<table>\n",
       "    <thead>\n",
       "        <tr>\n",
       "            <th>movie_id</th>\n",
       "            <th>title</th>\n",
       "            <th>release_date</th>\n",
       "        </tr>\n",
       "    </thead>\n",
       "    <tbody>\n",
       "        <tr>\n",
       "            <td>557</td>\n",
       "            <td>Spider-Man</td>\n",
       "            <td>2002-05-01 00:00:00.000000</td>\n",
       "        </tr>\n",
       "        <tr>\n",
       "            <td>558</td>\n",
       "            <td>Spider-Man 2</td>\n",
       "            <td>2004-06-25 00:00:00.000000</td>\n",
       "        </tr>\n",
       "        <tr>\n",
       "            <td>559</td>\n",
       "            <td>Spider-Man 3</td>\n",
       "            <td>2007-05-01 00:00:00.000000</td>\n",
       "        </tr>\n",
       "        <tr>\n",
       "            <td>1930</td>\n",
       "            <td>The Amazing Spider-Man</td>\n",
       "            <td>2012-06-27 00:00:00.000000</td>\n",
       "        </tr>\n",
       "        <tr>\n",
       "            <td>2043</td>\n",
       "            <td>Along Came a Spider</td>\n",
       "            <td>2001-04-06 00:00:00.000000</td>\n",
       "        </tr>\n",
       "        <tr>\n",
       "            <td>8204</td>\n",
       "            <td>The Spiderwick Chronicles</td>\n",
       "            <td>2008-02-14 00:00:00.000000</td>\n",
       "        </tr>\n",
       "        <tr>\n",
       "            <td>9613</td>\n",
       "            <td>Spider</td>\n",
       "            <td>2002-12-13 00:00:00.000000</td>\n",
       "        </tr>\n",
       "        <tr>\n",
       "            <td>30315</td>\n",
       "            <td>Kingdom of the Spiders</td>\n",
       "            <td>1977-08-24 00:00:00.000000</td>\n",
       "        </tr>\n",
       "        <tr>\n",
       "            <td>102382</td>\n",
       "            <td>The Amazing Spider-Man 2</td>\n",
       "            <td>2014-04-16 00:00:00.000000</td>\n",
       "        </tr>\n",
       "    </tbody>\n",
       "</table>"
      ],
      "text/plain": [
       "[(557, 'Spider-Man', '2002-05-01 00:00:00.000000'),\n",
       " (558, 'Spider-Man 2', '2004-06-25 00:00:00.000000'),\n",
       " (559, 'Spider-Man 3', '2007-05-01 00:00:00.000000'),\n",
       " (1930, 'The Amazing Spider-Man', '2012-06-27 00:00:00.000000'),\n",
       " (2043, 'Along Came a Spider', '2001-04-06 00:00:00.000000'),\n",
       " (8204, 'The Spiderwick Chronicles', '2008-02-14 00:00:00.000000'),\n",
       " (9613, 'Spider', '2002-12-13 00:00:00.000000'),\n",
       " (30315, 'Kingdom of the Spiders', '1977-08-24 00:00:00.000000'),\n",
       " (102382, 'The Amazing Spider-Man 2', '2014-04-16 00:00:00.000000')]"
      ]
     },
     "execution_count": 33,
     "metadata": {},
     "output_type": "execute_result"
    }
   ],
   "source": [
    "%%sql\n",
    "select movie_id, title, release_date\n",
    "from movies\n",
    "where title LIKE '%spider%' ;"
   ]
  },
  {
   "cell_type": "markdown",
   "id": "ad668bb5",
   "metadata": {},
   "source": [
    "Lets count those movie"
   ]
  },
  {
   "cell_type": "code",
   "execution_count": 35,
   "id": "45a85939",
   "metadata": {},
   "outputs": [
    {
     "name": "stdout",
     "output_type": "stream",
     "text": [
      "   sqlite:///TMDB-a-40061\n",
      " * sqlite:///TMDB-a-40061.db\n",
      "Done.\n"
     ]
    },
    {
     "data": {
      "text/html": [
       "<table>\n",
       "    <thead>\n",
       "        <tr>\n",
       "            <th>nbr_of_spiders</th>\n",
       "        </tr>\n",
       "    </thead>\n",
       "    <tbody>\n",
       "        <tr>\n",
       "            <td>9</td>\n",
       "        </tr>\n",
       "    </tbody>\n",
       "</table>"
      ],
      "text/plain": [
       "[(9,)]"
      ]
     },
     "execution_count": 35,
     "metadata": {},
     "output_type": "execute_result"
    }
   ],
   "source": [
    "%%sql\n",
    "select count (distinct title) AS nbr_of_spiders\n",
    "from (select movie_id, title, release_date\n",
    "from movies\n",
    "where title LIKE '%spider%');"
   ]
  },
  {
   "cell_type": "code",
   "execution_count": 36,
   "id": "6b6d18a5",
   "metadata": {},
   "outputs": [
    {
     "name": "stdout",
     "output_type": "stream",
     "text": [
      "Object `keywords` not found.\n"
     ]
    }
   ],
   "source": [
    "How many movies are there that are both in the \"Thriller\" genre and contain the word “love” anywhere in the keywords?"
   ]
  },
  {
   "cell_type": "code",
   "execution_count": 38,
   "id": "9277551c",
   "metadata": {},
   "outputs": [
    {
     "name": "stdout",
     "output_type": "stream",
     "text": [
      "   sqlite:///TMDB-a-40061\n",
      " * sqlite:///TMDB-a-40061.db\n",
      "Done.\n"
     ]
    },
    {
     "data": {
      "text/html": [
       "<table>\n",
       "    <thead>\n",
       "        <tr>\n",
       "            <th>genre_id</th>\n",
       "            <th>genre_name</th>\n",
       "        </tr>\n",
       "    </thead>\n",
       "    <tbody>\n",
       "        <tr>\n",
       "            <td>12</td>\n",
       "            <td>Adventure</td>\n",
       "        </tr>\n",
       "        <tr>\n",
       "            <td>14</td>\n",
       "            <td>Fantasy</td>\n",
       "        </tr>\n",
       "    </tbody>\n",
       "</table>"
      ],
      "text/plain": [
       "[(12, 'Adventure'), (14, 'Fantasy')]"
      ]
     },
     "execution_count": 38,
     "metadata": {},
     "output_type": "execute_result"
    }
   ],
   "source": [
    "%%sql \n",
    "select * from genres\n",
    "limit 2;"
   ]
  },
  {
   "cell_type": "code",
   "execution_count": null,
   "id": "f273014b",
   "metadata": {},
   "outputs": [],
   "source": []
  },
  {
   "cell_type": "code",
   "execution_count": null,
   "id": "be5631b5",
   "metadata": {},
   "outputs": [],
   "source": [
    "How many movies are there that are both in the \"Thriller\" genre and contain the word “love” anywhere in the keywords?"
   ]
  },
  {
   "cell_type": "code",
   "execution_count": 15,
   "id": "ac8ccaa3",
   "metadata": {},
   "outputs": [
    {
     "name": "stdout",
     "output_type": "stream",
     "text": [
      " * sqlite:///TMDB-a-40061.db\n",
      "Done.\n"
     ]
    },
    {
     "data": {
      "text/html": [
       "<table>\n",
       "    <thead>\n",
       "        <tr>\n",
       "            <th>nbrThrillerLove</th>\n",
       "        </tr>\n",
       "    </thead>\n",
       "    <tbody>\n",
       "        <tr>\n",
       "            <td>48</td>\n",
       "        </tr>\n",
       "    </tbody>\n",
       "</table>"
      ],
      "text/plain": [
       "[(48,)]"
      ]
     },
     "execution_count": 15,
     "metadata": {},
     "output_type": "execute_result"
    }
   ],
   "source": [
    "%%sql \n",
    "SELECT COUNT(distinct movie_id) AS nbrThrillerLove\n",
    "FROM (\n",
    "    SELECT m.title, g.genre_id, ge.genre_name, m.movie_id \n",
    "    FROM Movies m\n",
    "    JOIN genremap g ON g.movie_id = m.movie_id\n",
    "    JOIN genres ge ON ge.genre_id = g.genre_id\n",
    "    JOIN keywordmap km ON km.movie_id = m.movie_id\n",
    "    JOIN keywords ke ON ke.keyword_id = km.keyword_id\n",
    "    WHERE ge.genre_name = 'Thriller' AND ke.keyword_name LIKE '%love%'\n",
    ") AS subquery;\n"
   ]
  },
  {
   "cell_type": "markdown",
   "id": "7b8c082e",
   "metadata": {},
   "source": [
    "let's look at gender difference in actors. \n",
    "\n",
    "How many female actors (i.e. gender = 1)"
   ]
  },
  {
   "cell_type": "code",
   "execution_count": 17,
   "id": "134ee803",
   "metadata": {},
   "outputs": [
    {
     "name": "stdout",
     "output_type": "stream",
     "text": [
      " * sqlite:///TMDB-a-40061.db\n",
      "Done.\n"
     ]
    },
    {
     "data": {
      "text/html": [
       "<table>\n",
       "    <thead>\n",
       "        <tr>\n",
       "            <th>actor_id</th>\n",
       "            <th>actor_name</th>\n",
       "            <th>gender</th>\n",
       "        </tr>\n",
       "    </thead>\n",
       "    <tbody>\n",
       "        <tr>\n",
       "            <td>4</td>\n",
       "            <td>Carrie Fisher</td>\n",
       "            <td>1</td>\n",
       "        </tr>\n",
       "        <tr>\n",
       "            <td>14</td>\n",
       "            <td>Ellen DeGeneres</td>\n",
       "            <td>1</td>\n",
       "        </tr>\n",
       "        <tr>\n",
       "            <td>19</td>\n",
       "            <td>Allison Janney</td>\n",
       "            <td>1</td>\n",
       "        </tr>\n",
       "        <tr>\n",
       "            <td>20</td>\n",
       "            <td>Elizabeth Perkins</td>\n",
       "            <td>1</td>\n",
       "        </tr>\n",
       "        <tr>\n",
       "            <td>32</td>\n",
       "            <td>Robin Wright</td>\n",
       "            <td>1</td>\n",
       "        </tr>\n",
       "    </tbody>\n",
       "</table>"
      ],
      "text/plain": [
       "[(4, 'Carrie Fisher', 1),\n",
       " (14, 'Ellen DeGeneres', 1),\n",
       " (19, 'Allison Janney', 1),\n",
       " (20, 'Elizabeth Perkins', 1),\n",
       " (32, 'Robin Wright', 1)]"
      ]
     },
     "execution_count": 17,
     "metadata": {},
     "output_type": "execute_result"
    }
   ],
   "source": [
    "%%sql\n",
    "select * \n",
    "from actors\n",
    "where gender LIKE 1\n",
    "limit 5;"
   ]
  },
  {
   "cell_type": "code",
   "execution_count": 23,
   "id": "8388f27d",
   "metadata": {},
   "outputs": [
    {
     "name": "stdout",
     "output_type": "stream",
     "text": [
      " * sqlite:///TMDB-a-40061.db\n",
      "Done.\n"
     ]
    },
    {
     "data": {
      "text/html": [
       "<table>\n",
       "    <thead>\n",
       "        <tr>\n",
       "            <th>number_of_females</th>\n",
       "            <th>number_of_males</th>\n",
       "        </tr>\n",
       "    </thead>\n",
       "    <tbody>\n",
       "        <tr>\n",
       "            <td>10441</td>\n",
       "            <td>16317</td>\n",
       "        </tr>\n",
       "    </tbody>\n",
       "</table>"
      ],
      "text/plain": [
       "[(10441, 16317)]"
      ]
     },
     "execution_count": 23,
     "metadata": {},
     "output_type": "execute_result"
    }
   ],
   "source": [
    "%%sql\n",
    "SELECT\n",
    "    (SELECT COUNT(distinct actor_name) FROM actors WHERE gender = 1) AS number_of_females,\n",
    "    (SELECT COUNT(distinct actor_name) FROM actors WHERE gender = 2) AS number_of_males;\n"
   ]
  },
  {
   "cell_type": "code",
   "execution_count": null,
   "id": "29012ea2",
   "metadata": {},
   "outputs": [],
   "source": []
  },
  {
   "cell_type": "markdown",
   "id": "b1b930ba",
   "metadata": {},
   "source": [
    "\n",
    "There is a company named “The Royal Tenenbaums”, we need to know its movies genres"
   ]
  },
  {
   "cell_type": "code",
   "execution_count": 25,
   "id": "228752b1",
   "metadata": {},
   "outputs": [
    {
     "name": "stdout",
     "output_type": "stream",
     "text": [
      " * sqlite:///TMDB-a-40061.db\n",
      "Done.\n"
     ]
    },
    {
     "data": {
      "text/html": [
       "<table>\n",
       "    <thead>\n",
       "        <tr>\n",
       "            <th>movie_id</th>\n",
       "            <th>title</th>\n",
       "        </tr>\n",
       "    </thead>\n",
       "    <tbody>\n",
       "        <tr>\n",
       "            <td>13</td>\n",
       "            <td>Forrest Gump</td>\n",
       "        </tr>\n",
       "        <tr>\n",
       "            <td>14</td>\n",
       "            <td>American Beauty</td>\n",
       "        </tr>\n",
       "    </tbody>\n",
       "</table>"
      ],
      "text/plain": [
       "[(13, 'Forrest Gump'), (14, 'American Beauty')]"
      ]
     },
     "execution_count": 25,
     "metadata": {},
     "output_type": "execute_result"
    }
   ],
   "source": [
    "%%sql \n",
    "SELECT m.movie_id, m.title\n",
    "FROM movies m\n",
    "JOIN genremap gm ON m.movie_id = gm.movie_id\n",
    "JOIN genres g ON gm.genre_id = g.genre_id\n",
    "WHERE g.genre_id IN (18, 35)\n",
    "  OR m.title = 'The Royal Tenenbaums'\n",
    "    limit 2;\n"
   ]
  },
  {
   "cell_type": "markdown",
   "id": "7a8c5c17",
   "metadata": {},
   "source": [
    "What are the first three company with highest popularity on average?"
   ]
  },
  {
   "cell_type": "code",
   "execution_count": 27,
   "id": "babe492f",
   "metadata": {},
   "outputs": [
    {
     "name": "stdout",
     "output_type": "stream",
     "text": [
      " * sqlite:///TMDB-a-40061.db\n",
      "Done.\n"
     ]
    },
    {
     "data": {
      "text/html": [
       "<table>\n",
       "    <thead>\n",
       "        <tr>\n",
       "            <th>production_company_name</th>\n",
       "            <th>production_company_id</th>\n",
       "            <th>avgPop</th>\n",
       "        </tr>\n",
       "    </thead>\n",
       "    <tbody>\n",
       "        <tr>\n",
       "            <td>The Donners&#x27; Company</td>\n",
       "            <td>11307</td>\n",
       "            <td>514.569956</td>\n",
       "        </tr>\n",
       "        <tr>\n",
       "            <td>Bulletproof Cupid</td>\n",
       "            <td>54850</td>\n",
       "            <td>481.098624</td>\n",
       "        </tr>\n",
       "        <tr>\n",
       "            <td>Kinberg Genre</td>\n",
       "            <td>78091</td>\n",
       "            <td>326.92099900000005</td>\n",
       "        </tr>\n",
       "    </tbody>\n",
       "</table>"
      ],
      "text/plain": [
       "[(\"The Donners' Company\", 11307, 514.569956),\n",
       " ('Bulletproof Cupid', 54850, 481.098624),\n",
       " ('Kinberg Genre', 78091, 326.92099900000005)]"
      ]
     },
     "execution_count": 27,
     "metadata": {},
     "output_type": "execute_result"
    }
   ],
   "source": [
    "%%sql\n",
    "SELECT\n",
    "  distinct pc.production_company_name, pcm.production_company_id, AVG(m.popularity) OVER (PARTITION BY pcm.production_company_id) AS avgPop\n",
    "FROM\n",
    "  movies m\n",
    "JOIN\n",
    "  productioncompanymap pcm ON pcm.movie_id = m.movie_id\n",
    "JOIN\n",
    "  productioncompanies pc ON pc.production_company_id = pcm.production_company_id\n",
    "order by avgPop DESC\n",
    "LIMIT 3;"
   ]
  },
  {
   "cell_type": "markdown",
   "id": "dcd04fd8",
   "metadata": {},
   "source": [
    "Which genre has, on average, the lowest movie popularity score?"
   ]
  },
  {
   "cell_type": "code",
   "execution_count": 28,
   "id": "492d2df6",
   "metadata": {},
   "outputs": [
    {
     "name": "stdout",
     "output_type": "stream",
     "text": [
      " * sqlite:///TMDB-a-40061.db\n",
      "Done.\n"
     ]
    },
    {
     "data": {
      "text/html": [
       "<table>\n",
       "    <thead>\n",
       "        <tr>\n",
       "            <th>genre_id</th>\n",
       "            <th>genre_name</th>\n",
       "            <th>avg_Popularity</th>\n",
       "        </tr>\n",
       "    </thead>\n",
       "    <tbody>\n",
       "        <tr>\n",
       "            <td>10769</td>\n",
       "            <td>Foreign</td>\n",
       "            <td>0.686786794117647</td>\n",
       "        </tr>\n",
       "        <tr>\n",
       "            <td>99</td>\n",
       "            <td>Documentary</td>\n",
       "            <td>3.945723809090908</td>\n",
       "        </tr>\n",
       "        <tr>\n",
       "            <td>10770</td>\n",
       "            <td>TV Movie</td>\n",
       "            <td>6.389414749999999</td>\n",
       "        </tr>\n",
       "    </tbody>\n",
       "</table>"
      ],
      "text/plain": [
       "[(10769, 'Foreign', 0.686786794117647),\n",
       " (99, 'Documentary', 3.945723809090908),\n",
       " (10770, 'TV Movie', 6.389414749999999)]"
      ]
     },
     "execution_count": 28,
     "metadata": {},
     "output_type": "execute_result"
    }
   ],
   "source": [
    "%%sql\n",
    "select distinct g.genre_id, g.genre_name, Avg(m.popularity) over (partition by genre_name) AS avg_Popularity  from genres g\n",
    "join genremap gm ON g.genre_id=gm.genre_id\n",
    "join movies m ON gm.movie_id=m.movie_id\n",
    "order by avg_Popularity\n",
    "limit 3;\n"
   ]
  },
  {
   "cell_type": "markdown",
   "id": "fe24ce7a",
   "metadata": {},
   "source": [
    " Which award category has the highest number of actor nominations (actors can be male or female)? (Hint: Oscars.name contains both actors' names and film names.\n",
    "\n"
   ]
  },
  {
   "cell_type": "code",
   "execution_count": 29,
   "id": "fcb983be",
   "metadata": {},
   "outputs": [
    {
     "name": "stdout",
     "output_type": "stream",
     "text": [
      " * sqlite:///TMDB-a-40061.db\n",
      "Done.\n"
     ]
    },
    {
     "data": {
      "text/html": [
       "<table>\n",
       "    <thead>\n",
       "        <tr>\n",
       "            <th>award</th>\n",
       "            <th>actor_nominations</th>\n",
       "        </tr>\n",
       "    </thead>\n",
       "    <tbody>\n",
       "        <tr>\n",
       "            <td>Directing</td>\n",
       "            <td>429</td>\n",
       "        </tr>\n",
       "        <tr>\n",
       "            <td>Film Editing</td>\n",
       "            <td>410</td>\n",
       "        </tr>\n",
       "        <tr>\n",
       "            <td>Actor in a Supporting Role</td>\n",
       "            <td>400</td>\n",
       "        </tr>\n",
       "    </tbody>\n",
       "</table>"
      ],
      "text/plain": [
       "[('Directing', 429),\n",
       " ('Film Editing', 410),\n",
       " ('Actor in a Supporting Role', 400)]"
      ]
     },
     "execution_count": 29,
     "metadata": {},
     "output_type": "execute_result"
    }
   ],
   "source": [
    "%%sql\n",
    "SELECT distinct award, COUNT(name) over (partition by award) AS actor_nominations\n",
    "FROM oscars\n",
    "ORDER BY actor_nominations DESC\n",
    "LIMIT 3;"
   ]
  },
  {
   "cell_type": "code",
   "execution_count": null,
   "id": "a2d77780",
   "metadata": {},
   "outputs": [],
   "source": []
  }
 ],
 "metadata": {
  "kernelspec": {
   "display_name": "Python 3 (ipykernel)",
   "language": "python",
   "name": "python3"
  },
  "language_info": {
   "codemirror_mode": {
    "name": "ipython",
    "version": 3
   },
   "file_extension": ".py",
   "mimetype": "text/x-python",
   "name": "python",
   "nbconvert_exporter": "python",
   "pygments_lexer": "ipython3",
   "version": "3.9.0"
  }
 },
 "nbformat": 4,
 "nbformat_minor": 5
}
